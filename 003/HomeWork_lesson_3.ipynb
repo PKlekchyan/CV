{
 "cells": [
  {
   "cell_type": "code",
   "execution_count": 1,
   "id": "f644bba2",
   "metadata": {},
   "outputs": [],
   "source": [
    "import numpy as np\n",
    "import pandas as pd\n",
    "import matplotlib.pyplot as plt"
   ]
  },
  {
   "cell_type": "code",
   "execution_count": 2,
   "id": "03f2f698",
   "metadata": {},
   "outputs": [],
   "source": [
    "import warnings \n",
    "warnings.filterwarnings(\"ignore\")"
   ]
  },
  {
   "cell_type": "markdown",
   "id": "59c0ee43",
   "metadata": {},
   "source": [
    "### Загрузим данные"
   ]
  },
  {
   "cell_type": "code",
   "execution_count": 3,
   "id": "02315d74",
   "metadata": {},
   "outputs": [],
   "source": [
    "train = np.loadtxt('../002/data/digit/train.csv', delimiter=',', skiprows=1)\n",
    "test = np.loadtxt('../002/data/digit/test.csv', delimiter=',', skiprows=1)"
   ]
  },
  {
   "cell_type": "code",
   "execution_count": 4,
   "id": "292e4d30",
   "metadata": {},
   "outputs": [],
   "source": [
    "y = train[:, 0]\n",
    "X = train[:, 1:]"
   ]
  },
  {
   "cell_type": "markdown",
   "id": "c2e72c24",
   "metadata": {},
   "source": [
    "#### Визуализируем первое изображение"
   ]
  },
  {
   "cell_type": "code",
   "execution_count": 5,
   "id": "f6766db6",
   "metadata": {},
   "outputs": [],
   "source": [
    "first = train[0, :]\n",
    "first_img = np.resize(first, (28, 28))"
   ]
  },
  {
   "cell_type": "code",
   "execution_count": 6,
   "id": "d674605d",
   "metadata": {
    "scrolled": true
   },
   "outputs": [
    {
     "data": {
      "text/plain": [
       "<matplotlib.image.AxesImage at 0x1a85f848d60>"
      ]
     },
     "execution_count": 6,
     "metadata": {},
     "output_type": "execute_result"
    },
    {
     "data": {
      "image/png": "[encoded data removed]",
      "text/plain": [
       "<Figure size 432x288 with 1 Axes>"
      ]
     },
     "metadata": {
      "needs_background": "light"
     },
     "output_type": "display_data"
    }
   ],
   "source": [
    "plt.imshow(first_img, cmap='gray')"
   ]
  },
  {
   "cell_type": "markdown",
   "id": "ba4e8181",
   "metadata": {},
   "source": [
    "### PCA разложение"
   ]
  },
  {
   "cell_type": "markdown",
   "id": "12791e6d",
   "metadata": {},
   "source": [
    "#### Стандартизация"
   ]
  },
  {
   "cell_type": "code",
   "execution_count": 7,
   "id": "a04405fa",
   "metadata": {},
   "outputs": [],
   "source": [
    "X = X - X.mean(axis=0) "
   ]
  },
  {
   "cell_type": "markdown",
   "id": "88251489",
   "metadata": {},
   "source": [
    "#### Матрица ковариаций"
   ]
  },
  {
   "cell_type": "code",
   "execution_count": 8,
   "id": "ff17ecfe",
   "metadata": {},
   "outputs": [],
   "source": [
    "cov = np.dot(X.T, X)/X.shape[0]"
   ]
  },
  {
   "cell_type": "markdown",
   "id": "28e57186",
   "metadata": {},
   "source": [
    "#### SVD"
   ]
  },
  {
   "cell_type": "code",
   "execution_count": 9,
   "id": "98c33e21",
   "metadata": {},
   "outputs": [],
   "source": [
    "U, S, V = np.linalg.svd(cov)"
   ]
  },
  {
   "cell_type": "markdown",
   "id": "3d0f96de",
   "metadata": {},
   "source": [
    "#### Найдем оптимальное кол-во признаков"
   ]
  },
  {
   "cell_type": "code",
   "execution_count": 10,
   "id": "3fff03fd",
   "metadata": {},
   "outputs": [],
   "source": [
    "cumsum = np.cumsum(S)/np.sum(S)"
   ]
  },
  {
   "cell_type": "code",
   "execution_count": 11,
   "id": "18d21df1",
   "metadata": {},
   "outputs": [
    {
     "data": {
      "text/plain": [
       "[<matplotlib.lines.Line2D at 0x1a841708040>]"
      ]
     },
     "execution_count": 11,
     "metadata": {},
     "output_type": "execute_result"
    },
    {
     "data": {
      "image/png": "[encoded data removed]",
      "text/plain": [
       "<Figure size 432x288 with 1 Axes>"
      ]
     },
     "metadata": {
      "needs_background": "light"
     },
     "output_type": "display_data"
    }
   ],
   "source": [
    "plt.plot(cumsum)"
   ]
  },
  {
   "cell_type": "code",
   "execution_count": 12,
   "id": "7adf640b",
   "metadata": {},
   "outputs": [
    {
     "data": {
      "text/plain": [
       "153"
      ]
     },
     "execution_count": 12,
     "metadata": {},
     "output_type": "execute_result"
    }
   ],
   "source": [
    "n_comp = np.argmax(np.where(cumsum > 0.95, 1, 0))\n",
    "n_comp"
   ]
  },
  {
   "cell_type": "markdown",
   "id": "6eb4c63c",
   "metadata": {},
   "source": [
    "#### Получаем данные с пониженной размерностью"
   ]
  },
  {
   "cell_type": "code",
   "execution_count": 13,
   "id": "041e8d7a",
   "metadata": {},
   "outputs": [],
   "source": [
    "X_redused = np.dot(X, U[:, :n_comp])"
   ]
  },
  {
   "cell_type": "code",
   "execution_count": 14,
   "id": "0ee1cb0f",
   "metadata": {},
   "outputs": [
    {
     "data": {
      "text/plain": [
       "(42000, 153)"
      ]
     },
     "execution_count": 14,
     "metadata": {},
     "output_type": "execute_result"
    }
   ],
   "source": [
    "X_redused.shape"
   ]
  },
  {
   "cell_type": "markdown",
   "id": "f61b33c8",
   "metadata": {},
   "source": [
    "### Создаем модель классификации на данных с пониженной размерностью"
   ]
  },
  {
   "cell_type": "code",
   "execution_count": 15,
   "id": "18a68b65",
   "metadata": {},
   "outputs": [],
   "source": [
    "from sklearn.linear_model import LogisticRegression\n",
    "from sklearn.model_selection import RandomizedSearchCV\n",
    "from sklearn.model_selection import train_test_split"
   ]
  },
  {
   "cell_type": "code",
   "execution_count": 16,
   "id": "02bb5f8b",
   "metadata": {},
   "outputs": [],
   "source": [
    "x_train, x_test, y_train, y_test = train_test_split(X_redused, y, test_size = 0.3, random_state=42)"
   ]
  },
  {
   "cell_type": "code",
   "execution_count": 17,
   "id": "12434434",
   "metadata": {},
   "outputs": [],
   "source": [
    "params = {'C':[0.1,0.2,0.3,0.5],\n",
    "          'penalty':['l1', 'l2', 'none']}"
   ]
  },
  {
   "cell_type": "code",
   "execution_count": 18,
   "id": "0b0618b4",
   "metadata": {},
   "outputs": [],
   "source": [
    "model = RandomizedSearchCV(LogisticRegression(), params, cv=5, scoring='accuracy')"
   ]
  },
  {
   "cell_type": "code",
   "execution_count": 19,
   "id": "2108865e",
   "metadata": {
    "scrolled": true
   },
   "outputs": [
    {
     "data": {
      "text/plain": [
       "RandomizedSearchCV(cv=5, estimator=LogisticRegression(),\n",
       "                   param_distributions={'C': [0.1, 0.2, 0.3, 0.5],\n",
       "                                        'penalty': ['l1', 'l2', 'none']},\n",
       "                   scoring='accuracy')"
      ]
     },
     "execution_count": 19,
     "metadata": {},
     "output_type": "execute_result"
    }
   ],
   "source": [
    "model.fit(x_train, y_train)"
   ]
  },
  {
   "cell_type": "code",
   "execution_count": 20,
   "id": "a1f54fa7",
   "metadata": {},
   "outputs": [],
   "source": [
    "best_model = model.best_estimator_"
   ]
  },
  {
   "cell_type": "markdown",
   "id": "5fb6cf1f",
   "metadata": {},
   "source": [
    "### Предсказываем тестовые данные"
   ]
  },
  {
   "cell_type": "markdown",
   "id": "9ca9f1f9",
   "metadata": {},
   "source": [
    "#### Приводим тестовые данные к нужному виду"
   ]
  },
  {
   "cell_type": "code",
   "execution_count": 24,
   "id": "403ecc8d",
   "metadata": {},
   "outputs": [],
   "source": [
    "test_standard = test - test.mean(axis=0)"
   ]
  },
  {
   "cell_type": "code",
   "execution_count": 25,
   "id": "9cbd1ce1",
   "metadata": {},
   "outputs": [],
   "source": [
    "test_redused = np.dot(test_standard, U[:, :n_comp])"
   ]
  },
  {
   "cell_type": "markdown",
   "id": "9d112c9f",
   "metadata": {},
   "source": [
    "#### Предсказываем"
   ]
  },
  {
   "cell_type": "code",
   "execution_count": 29,
   "id": "fcb0c636",
   "metadata": {},
   "outputs": [],
   "source": [
    "test_pred = best_model.predict(test_redused)"
   ]
  },
  {
   "cell_type": "markdown",
   "id": "5616a77e",
   "metadata": {},
   "source": [
    "#### Визуализируем "
   ]
  },
  {
   "cell_type": "code",
   "execution_count": 44,
   "id": "39cbbbf1",
   "metadata": {},
   "outputs": [],
   "source": [
    "test_img = np.reshape(test, (len(test), 28, 28))"
   ]
  },
  {
   "cell_type": "code",
   "execution_count": 47,
   "id": "d8a1c6c3",
   "metadata": {
    "scrolled": true
   },
   "outputs": [
    {
     "data": {
      "image/png": "[encoded data removed]",
      "text/plain": [
       "<Figure size 1440x720 with 10 Axes>"
      ]
     },
     "metadata": {
      "needs_background": "light"
     },
     "output_type": "display_data"
    }
   ],
   "source": [
    "fig = plt.figure(figsize=(20, 10))\n",
    "for i, img in enumerate(test_img[0:10], 1):\n",
    "    subplot = fig.add_subplot(1, 10, i)\n",
    "    plt.imshow(img, cmap='gray');\n",
    "    subplot.set_title('%s' % test_pred[i - 1]);"
   ]
  },
  {
   "cell_type": "markdown",
   "id": "04970f59",
   "metadata": {},
   "source": [
    "### Сохраняем предсказанные данные"
   ]
  },
  {
   "cell_type": "code",
   "execution_count": 141,
   "id": "2cb9c5c7",
   "metadata": {},
   "outputs": [],
   "source": [
    "arr = []\n",
    "for i in range(1, len(test_pred)+1):\n",
    "    arr.append((i, int(test_pred[i-1])))"
   ]
  },
  {
   "cell_type": "code",
   "execution_count": 142,
   "id": "c30566a9",
   "metadata": {},
   "outputs": [],
   "source": [
    "df = pd.DataFrame(arr, columns=['ImageId', 'Label'])"
   ]
  },
  {
   "cell_type": "code",
   "execution_count": 146,
   "id": "31e55d6f",
   "metadata": {},
   "outputs": [],
   "source": [
    "df.to_csv('data/predictions.csv', index=False)"
   ]
  }
 ],
 "metadata": {
  "kernelspec": {
   "display_name": "Python 3 (ipykernel)",
   "language": "python",
   "name": "python3"
  },
  "language_info": {
   "codemirror_mode": {
    "name": "ipython",
    "version": 3
   },
   "file_extension": ".py",
   "mimetype": "text/x-python",
   "name": "python",
   "nbconvert_exporter": "python",
   "pygments_lexer": "ipython3",
   "version": "3.9.7"
  }
 },
 "nbformat": 4,
 "nbformat_minor": 5
}
