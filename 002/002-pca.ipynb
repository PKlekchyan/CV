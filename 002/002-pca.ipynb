{
 "cells": [
  {
   "cell_type": "markdown",
   "metadata": {},
   "source": [
    "# Пример понижения размерности с помощью PCA"
   ]
  },
  {
   "cell_type": "code",
   "execution_count": 1,
   "metadata": {},
   "outputs": [],
   "source": [
    "import numpy as np"
   ]
  },
  {
   "cell_type": "code",
   "execution_count": 2,
   "metadata": {},
   "outputs": [],
   "source": [
    "train = np.loadtxt('./data/digit/train.csv', delimiter=',', skiprows=1)"
   ]
  },
  {
   "cell_type": "code",
   "execution_count": 3,
   "metadata": {},
   "outputs": [],
   "source": [
    "# сохраняем разметку в отдельную переменную\n",
    "train_label = train[:, 0]\n",
    "# приводим размерность к удобному для обаботки виду\n",
    "train_img = np.reshape(train[:, 1:], (len(train[:, 1:]), 28, 28))"
   ]
  },
  {
   "cell_type": "code",
   "execution_count": 16,
   "metadata": {},
   "outputs": [
    {
     "data": {
      "text/plain": [
       "<matplotlib.image.AxesImage at 0x1b68112bc10>"
      ]
     },
     "execution_count": 16,
     "metadata": {},
     "output_type": "execute_result"
    },
    {
     "data": {
      "image/png": "[encoded data removed]",
      "text/plain": [
       "<Figure size 432x288 with 1 Axes>"
      ]
     },
     "metadata": {
      "needs_background": "light"
     },
     "output_type": "display_data"
    }
   ],
   "source": [
    "plt.imshow(train_img[0], cmap='gray')"
   ]
  },
  {
   "cell_type": "code",
   "execution_count": 15,
   "metadata": {},
   "outputs": [
    {
     "data": {
      "image/png": "[encoded data removed]",
      "text/plain": [
       "<Figure size 1440x720 with 5 Axes>"
      ]
     },
     "metadata": {
      "needs_background": "light"
     },
     "output_type": "display_data"
    }
   ],
   "source": [
    "%matplotlib inline\n",
    "from matplotlib import pyplot as plt\n",
    "fig = plt.figure(figsize=(20, 10))\n",
    "for i, img in enumerate(train_img[0:5], 1):\n",
    "    subplot = fig.add_subplot(1, 7, i)\n",
    "    plt.imshow(img, cmap='gray');\n",
    "    subplot.set_title('%s' % train_label[i - 1]);"
   ]
  },
  {
   "cell_type": "code",
   "execution_count": 6,
   "metadata": {},
   "outputs": [],
   "source": [
    "# выбираем семпл данных для обработки\n",
    "choices = np.random.choice(train_img.shape[0], 10000)\n",
    "\n",
    "y = train_label[choices]\n",
    "X = train_img[choices].reshape(-1, 28 * 28).astype(np.float32)"
   ]
  },
  {
   "cell_type": "code",
   "execution_count": 21,
   "metadata": {},
   "outputs": [],
   "source": [
    "# центрируем данные\n",
    "X_mean = X.mean(axis=0)\n",
    "X -= X_mean"
   ]
  },
  {
   "cell_type": "code",
   "execution_count": 23,
   "metadata": {},
   "outputs": [
    {
     "data": {
      "text/plain": [
       "array([ 0.00000000e+00,  0.00000000e+00,  0.00000000e+00,  0.00000000e+00,\n",
       "        0.00000000e+00,  0.00000000e+00,  0.00000000e+00,  0.00000000e+00,\n",
       "        0.00000000e+00,  0.00000000e+00,  0.00000000e+00,  0.00000000e+00,\n",
       "       -1.00003602e-03, -2.16006562e-02, -2.16006562e-02, -9.00018087e-04,\n",
       "        0.00000000e+00,  0.00000000e+00,  0.00000000e+00,  0.00000000e+00,\n",
       "        0.00000000e+00,  0.00000000e+00,  0.00000000e+00,  0.00000000e+00,\n",
       "        0.00000000e+00,  0.00000000e+00,  0.00000000e+00,  0.00000000e+00,\n",
       "        0.00000000e+00,  0.00000000e+00,  0.00000000e+00,  0.00000000e+00,\n",
       "        0.00000000e+00, -7.99999572e-04, -2.91010961e-02, -4.75979485e-02,\n",
       "       -5.91019019e-02, -6.18999600e-02, -2.52709270e-01, -3.59705031e-01,\n",
       "       -3.44505101e-01, -1.68199793e-01, -1.96702227e-01, -1.70794591e-01,\n",
       "       -1.45897940e-01, -1.43300787e-01, -8.60985294e-02, -5.61992601e-02,\n",
       "       -4.07990552e-02, -1.51003795e-02, -1.83989890e-02, -1.49992364e-03,\n",
       "        0.00000000e+00,  0.00000000e+00,  0.00000000e+00,  0.00000000e+00,\n",
       "        0.00000000e+00,  0.00000000e+00,  0.00000000e+00,  0.00000000e+00,\n",
       "       -1.33999167e-02, -3.04997638e-02, -8.73987600e-02, -1.42201260e-01,\n",
       "       -2.85901636e-01, -6.60203278e-01, -1.30122101e+00, -1.86229599e+00,\n",
       "       -2.15811133e+00, -2.93610311e+00, -3.71172547e+00, -3.92558908e+00,\n",
       "       -3.46579027e+00, -2.77320576e+00, -2.14980483e+00, -1.88700998e+00,\n",
       "       -1.27630270e+00, -6.42996430e-01, -3.40799749e-01, -8.96994770e-02,\n",
       "       -2.45005153e-02, -1.23993549e-02,  0.00000000e+00,  0.00000000e+00,\n",
       "        0.00000000e+00,  0.00000000e+00,  0.00000000e+00,  0.00000000e+00,\n",
       "       -8.29946902e-03, -1.80803940e-01, -3.38300884e-01, -6.49005115e-01,\n",
       "       -1.25880623e+00, -2.59588146e+00, -4.55339384e+00, -6.75592184e+00,\n",
       "       -8.61775684e+00, -1.08963318e+01, -1.30214081e+01, -1.38417120e+01,\n",
       "       -1.23267088e+01, -1.05550985e+01, -8.48870182e+00, -6.57219267e+00,\n",
       "       -4.53709269e+00, -2.69469833e+00, -1.37289751e+00, -5.91503859e-01,\n",
       "       -2.00702444e-01, -3.17000672e-02,  0.00000000e+00,  0.00000000e+00,\n",
       "        0.00000000e+00,  0.00000000e+00,  0.00000000e+00, -1.14006316e-02,\n",
       "       -7.14003816e-02, -4.91501927e-01, -1.27790546e+00, -2.92149520e+00,\n",
       "       -5.73308706e+00, -9.87466908e+00, -1.54274187e+01, -2.27503338e+01,\n",
       "       -2.99426746e+01, -3.72230110e+01, -4.33015938e+01, -4.58428802e+01,\n",
       "       -4.45972672e+01, -3.92232857e+01, -3.16653118e+01, -2.38444138e+01,\n",
       "       -1.55840120e+01, -9.13130665e+00, -4.92809963e+00, -2.46601439e+00,\n",
       "       -9.34900761e-01, -2.19999030e-01, -3.58015634e-02,  0.00000000e+00,\n",
       "        0.00000000e+00,  0.00000000e+00, -6.39987784e-03, -4.30004969e-02,\n",
       "       -5.19603670e-01, -1.87359607e+00, -4.17360544e+00, -8.10726929e+00,\n",
       "       -1.44083023e+01, -2.32771759e+01, -3.46246529e+01, -4.75147476e+01,\n",
       "       -6.17381172e+01, -5.88156052e+01, -5.21013489e+01,  3.37696228e+01,\n",
       "       -1.73018341e+01, -6.42302933e+01, -6.66426163e+01, -5.04295769e+01,\n",
       "       -3.49459915e+01, -2.20523186e+01, -1.24531841e+01, -6.68360472e+00,\n",
       "       -3.14279056e+00, -9.10696626e-01, -1.28798977e-01,  0.00000000e+00,\n",
       "        0.00000000e+00,  0.00000000e+00, -3.19003426e-02, -2.99902618e-01,\n",
       "       -1.42580771e+00, -3.85780931e+00, -8.07979107e+00, -1.52973080e+01,\n",
       "       -2.56320782e+01, -3.94725494e+01, -5.53423080e+01, -7.22992859e+01,\n",
       "        5.92698812e+00,  1.18752296e+02,  1.34928085e+02,  1.29725845e+02,\n",
       "        1.32450668e+02,  1.14686180e+02,  2.52851200e+00, -7.50866013e+01,\n",
       "       -5.43719902e+01, -3.53372116e+01, -2.09417191e+01, -1.13129034e+01,\n",
       "       -5.55149031e+00, -1.92869461e+00, -3.48598510e-01, -6.16002493e-02,\n",
       "        0.00000000e+00, -1.17998244e-02, -1.03899769e-01, -7.06200719e-01,\n",
       "       -2.72321105e+00, -6.74990177e+00, -1.29571857e+01, -2.32336864e+01,\n",
       "       -3.75407181e+01, -5.55354958e+01, -6.14659615e+01,  8.80505447e+01,\n",
       "        1.41683975e+02,  1.19466797e+02,  6.52659607e+01,  2.60430279e+01,\n",
       "        9.62503433e+01,  1.29366989e+02,  1.14215034e+02, -5.58151093e+01,\n",
       "       -6.92247696e+01, -4.64677048e+01, -2.76139889e+01, -1.46028032e+01,\n",
       "       -6.77948618e+00, -2.48949814e+00, -5.08998275e-01, -1.81996133e-02,\n",
       "        0.00000000e+00, -9.11005065e-02, -3.80298555e-01, -1.37930024e+00,\n",
       "       -3.90269208e+00, -8.99441433e+00, -1.70001717e+01, -3.00544777e+01,\n",
       "       -4.83641510e+01, -6.93467255e+01, -3.71643944e+01,  1.45879013e+02,\n",
       "        8.70982437e+01, -8.69896774e+01, -1.22350037e+02, -1.21814034e+02,\n",
       "       -1.00417496e+02,  8.10844574e+01,  1.39443100e+02,  6.57381439e+01,\n",
       "       -7.67842178e+01, -5.21207771e+01, -3.11505299e+01, -1.60409870e+01,\n",
       "       -6.72931337e+00, -2.43759441e+00, -4.93307114e-01,  0.00000000e+00,\n",
       "        0.00000000e+00, -1.39799118e-01, -5.90701461e-01, -1.63639617e+00,\n",
       "       -4.18108034e+00, -9.40147972e+00, -1.91250000e+01, -3.45134239e+01,\n",
       "       -5.50876122e+01, -7.88605881e+01, -6.29104958e+01,  5.13049545e+01,\n",
       "       -8.71032028e+01, -1.02728775e+02, -9.82458191e+01, -9.86517029e+01,\n",
       "       -1.02840538e+02, -1.76630366e+00,  1.43713776e+02,  1.17176903e+02,\n",
       "       -7.68006210e+01, -5.26297073e+01, -3.09049892e+01, -1.51373806e+01,\n",
       "       -5.82969666e+00, -1.84329760e+00, -2.88899004e-01, -1.13006001e-02,\n",
       "        0.00000000e+00, -9.49990526e-02, -4.97002453e-01, -1.41909432e+00,\n",
       "       -3.75017309e+00, -9.10416031e+00, -2.00887070e+01, -3.67330513e+01,\n",
       "       -5.93595200e+01, -8.37891235e+01, -9.98630600e+01, -1.00802162e+02,\n",
       "       -9.15892563e+01, -8.11448288e+01, -7.97153091e+01, -8.37346649e+01,\n",
       "       -8.30672531e+01,  1.07411362e+02,  1.48052673e+02,  2.93772297e+01,\n",
       "       -7.20128250e+01, -4.81310043e+01, -2.85158024e+01, -1.34654942e+01,\n",
       "       -4.67860699e+00, -1.08450115e+00, -1.91399291e-01, -1.25004314e-02,\n",
       "        0.00000000e+00, -2.43003480e-02, -2.79201329e-01, -1.04310536e+00,\n",
       "       -3.09807110e+00, -9.05639172e+00, -2.10325756e+01, -3.94886780e+01,\n",
       "       -6.43904266e+01, -8.75602188e+01, -9.86963043e+01, -9.27853775e+01,\n",
       "       -8.01893616e+01, -7.29488220e+01, -7.61600647e+01, -8.55408249e+01,\n",
       "        2.67667294e+01,  1.46644211e+02,  1.16410561e+02, -6.13762398e+01,\n",
       "       -6.60144882e+01, -4.31598015e+01, -2.55098171e+01, -1.25401335e+01,\n",
       "       -4.25220251e+00, -7.24894762e-01, -1.27202302e-01, -4.60015843e-03,\n",
       "        0.00000000e+00, -1.30002969e-03, -1.62796661e-01, -7.46397495e-01,\n",
       "       -2.56893420e+00, -9.36941147e+00, -2.28685703e+01, -4.41898689e+01,\n",
       "       -6.92995148e+01, -9.03856583e+01, -9.73058090e+01, -8.97938766e+01,\n",
       "       -7.92438889e+01, -7.90471573e+01, -8.93712387e+01, -7.64407425e+01,\n",
       "        1.00179413e+02,  1.35723862e+02,  4.21546211e+01, -8.60363235e+01,\n",
       "       -5.93259544e+01, -3.90638084e+01, -2.39805450e+01, -1.29132051e+01,\n",
       "       -4.72651720e+00, -5.26505709e-01, -1.00898445e-01, -1.62998214e-02,\n",
       "        0.00000000e+00,  0.00000000e+00, -1.35501385e-01, -5.18503368e-01,\n",
       "       -2.49991345e+00, -1.07327042e+01, -2.60711346e+01, -4.80578766e+01,\n",
       "       -7.24733124e+01, -9.13648834e+01, -9.67828217e+01, -9.05946045e+01,\n",
       "       -8.61068726e+01, -9.69655075e+01, -6.67648468e+01,  9.00713043e+01,\n",
       "        1.24585625e+02,  6.24104424e+01, -1.05215935e+02, -8.21629639e+01,\n",
       "       -5.59686050e+01, -3.76915207e+01, -2.41012897e+01, -1.38787127e+01,\n",
       "       -5.48380327e+00, -5.45202494e-01, -1.04597107e-01,  0.00000000e+00,\n",
       "        0.00000000e+00,  0.00000000e+00, -6.80028498e-02, -3.98103148e-01,\n",
       "       -2.73060489e+00, -1.24854231e+01, -2.93209743e+01, -5.09393120e+01,\n",
       "       -7.38645782e+01, -8.94288254e+01, -9.47707138e+01, -9.30041199e+01,\n",
       "       -9.79749298e+01, -2.91666374e+01,  1.14375381e+02,  1.13644066e+02,\n",
       "        9.24076996e+01, -8.04865646e+01, -1.08293030e+02, -7.98591309e+01,\n",
       "       -5.66353989e+01, -3.90975609e+01, -2.54729004e+01, -1.53995180e+01,\n",
       "       -6.02896643e+00, -7.04603672e-01, -1.63897783e-01, -5.09984186e-03,\n",
       "        0.00000000e+00,  0.00000000e+00, -6.34982437e-02, -5.03204882e-01,\n",
       "       -3.64279461e+00, -1.44551172e+01, -3.11705399e+01, -5.19169006e+01,\n",
       "       -7.18579407e+01, -8.55169373e+01, -9.12818451e+01, -9.48326645e+01,\n",
       "       -4.99373512e+01,  1.25443260e+02,  1.17341103e+02,  6.20394592e+01,\n",
       "       -8.96091309e+01, -1.22815628e+02, -1.02910477e+02, -7.87604218e+01,\n",
       "       -5.93654556e+01, -4.24620781e+01, -2.73089046e+01, -1.59751015e+01,\n",
       "       -6.14395475e+00, -1.02190232e+00, -1.88800544e-01, -1.95985418e-02,\n",
       "        0.00000000e+00,  0.00000000e+00, -7.81017616e-02, -7.86098242e-01,\n",
       "       -4.85840130e+00, -1.67247143e+01, -3.21257973e+01, -5.03038330e+01,\n",
       "       -6.71885223e+01, -7.90924530e+01, -8.48225861e+01, -2.07215095e+00,\n",
       "        1.39708740e+02,  1.37240479e+02,  4.52381668e+01, -1.21951271e+02,\n",
       "       -1.22306519e+02, -1.12695473e+02, -9.71338043e+01, -7.91726227e+01,\n",
       "       -6.21898842e+01, -4.40843925e+01, -2.79426994e+01, -1.52357655e+01,\n",
       "       -5.94178534e+00, -1.42289555e+00, -2.34901845e-01, -2.19996204e-03,\n",
       "        0.00000000e+00,  0.00000000e+00, -1.32701471e-01, -1.14399803e+00,\n",
       "       -6.57139301e+00, -1.89268932e+01, -3.37206955e+01, -4.86511879e+01,\n",
       "       -6.17667313e+01, -3.10022831e+01,  5.07985229e+01,  1.64356552e+02,\n",
       "        1.63707413e+02,  1.52466156e+02,  5.80448799e+01, -8.98289394e+00,\n",
       "        2.89996319e+01,  1.30150104e+00,  1.28561420e+01,  2.72278976e+01,\n",
       "        4.48800926e+01,  6.42913208e+01,  8.10270920e+01,  9.33802567e+01,\n",
       "       -5.45170403e+00, -1.53760195e+00, -2.19898820e-01, -5.90014085e-03,\n",
       "        0.00000000e+00, -2.70008272e-03, -1.64601520e-01, -1.72709548e+00,\n",
       "       -8.35760593e+00, -2.10928230e+01,  1.84979725e+01,  6.14544029e+01,\n",
       "        9.50284119e+01,  1.63683929e+02,  1.81825562e+02,  1.76674591e+02,\n",
       "        1.70703354e+02,  1.59578461e+02,  1.48266769e+02,  1.41419510e+02,\n",
       "        1.40616470e+02,  1.47562943e+02,  1.59275162e+02,  1.75477997e+02,\n",
       "        1.95105194e+02,  2.14844467e+02,  2.30312851e+02,  1.87567581e+02,\n",
       "       -5.05190706e+00, -1.41230488e+00, -1.43299192e-01, -2.00007204e-03,\n",
       "        0.00000000e+00, -6.19984558e-03, -2.06598699e-01, -2.39760733e+00,\n",
       "        6.99317455e-01,  1.10290871e+02,  2.09915619e+02,  2.02870605e+02,\n",
       "        1.91473068e+02,  1.82296417e+02,  1.67984268e+02,  1.32644836e+02,\n",
       "        1.26252251e+02,  1.15407951e+02,  2.49743290e+01,  1.64274383e+00,\n",
       "        2.62872815e+00,  1.09798994e+01,  2.65856571e+01,  4.70593681e+01,\n",
       "        6.61009598e+01, -9.84850693e+00,  3.97200894e+00, -3.75150323e+00,\n",
       "       -3.94089270e+00, -1.00829923e+00, -1.50902003e-01,  0.00000000e+00,\n",
       "        0.00000000e+00,  0.00000000e+00, -2.82797128e-01, -2.56768274e+00,\n",
       "        2.02443787e+02,  2.32165131e+02,  2.15617340e+02,  1.98714767e+02,\n",
       "        1.35042786e+02,  3.91810722e+01, -4.50484352e+01, -9.86801376e+01,\n",
       "       -1.07131180e+02, -1.18932587e+02, -1.26610931e+02, -1.26733719e+02,\n",
       "       -1.19853630e+02, -1.05788887e+02, -8.58015594e+01, -6.23546791e+01,\n",
       "       -4.14933624e+01, -2.59126015e+01, -1.42281847e+01, -6.81148434e+00,\n",
       "       -2.84390354e+00, -7.86106944e-01, -7.83029720e-02,  0.00000000e+00,\n",
       "        0.00000000e+00,  0.00000000e+00, -3.44400615e-01, -2.10749078e+00,\n",
       "        2.22479111e+02,  2.35801895e+02,  1.96061859e+02,  5.64193916e+01,\n",
       "       -7.11364059e+01, -8.78270721e+01, -1.01372704e+02, -1.13371765e+02,\n",
       "       -1.24347855e+02, -1.32442566e+02, -1.34029541e+02, -1.26413887e+02,\n",
       "       -1.11969116e+02, -9.23220139e+01, -6.86353073e+01, -4.61977539e+01,\n",
       "       -2.90530281e+01, -1.68634815e+01, -8.59971428e+00, -4.41269636e+00,\n",
       "       -1.80149162e+00, -3.89695436e-01, -5.53013459e-02,  0.00000000e+00,\n",
       "        0.00000000e+00,  0.00000000e+00, -1.60201430e-01, -1.18429554e+00,\n",
       "        1.38011999e+01,  1.75880909e+01, -5.83561802e+00, -4.08498230e+01,\n",
       "       -6.13518600e+01, -8.09546051e+01, -9.86395111e+01, -1.12400574e+02,\n",
       "       -1.22633240e+02, -1.25676033e+02, -1.21443428e+02, -1.07751709e+02,\n",
       "       -8.84878082e+01, -6.70953293e+01, -4.53581047e+01, -2.81834545e+01,\n",
       "       -1.67556992e+01, -9.16030598e+00, -4.39898109e+00, -1.96209359e+00,\n",
       "       -7.89703131e-01, -1.61699310e-01, -3.61995846e-02,  0.00000000e+00,\n",
       "        0.00000000e+00,  0.00000000e+00, -3.65005620e-02, -5.04501522e-01,\n",
       "       -1.68452632e+00, -4.94631004e+00, -1.22775688e+01, -2.35386238e+01,\n",
       "       -3.98018913e+01, -5.79221992e+01, -7.48877106e+01, -8.94334793e+01,\n",
       "       -9.81055984e+01, -9.86389771e+01, -8.93414841e+01, -7.45815048e+01,\n",
       "       -5.66153297e+01, -4.06596909e+01, -2.55651436e+01, -1.48957491e+01,\n",
       "       -8.39238548e+00, -4.30560541e+00, -2.03650093e+00, -1.04461229e+00,\n",
       "       -3.89701694e-01, -5.42984419e-02, -8.10051057e-03,  0.00000000e+00,\n",
       "        0.00000000e+00,  0.00000000e+00,  0.00000000e+00, -1.46799594e-01,\n",
       "       -5.00501692e-01, -1.36529386e+00, -4.02068710e+00, -8.24470520e+00,\n",
       "       -1.59049311e+01, -2.61612911e+01, -3.64558029e+01, -4.50887833e+01,\n",
       "       -5.08756866e+01, -5.01299171e+01, -4.46817589e+01, -3.58314667e+01,\n",
       "       -2.70191994e+01, -1.93672104e+01, -1.20325203e+01, -6.99830675e+00,\n",
       "       -3.98720598e+00, -1.72259939e+00, -7.48992980e-01, -3.35704774e-01,\n",
       "       -1.68497503e-01, -4.66978066e-02, -9.79953445e-03,  0.00000000e+00,\n",
       "        0.00000000e+00,  0.00000000e+00,  0.00000000e+00, -2.83000842e-02,\n",
       "       -1.16700627e-01, -4.03299034e-01, -1.29009998e+00, -2.85559964e+00,\n",
       "       -5.81300926e+00, -9.13657188e+00, -1.29625273e+01, -1.65257816e+01,\n",
       "       -1.85084934e+01, -1.80438633e+01, -1.56090803e+01, -1.27943726e+01,\n",
       "       -1.04154778e+01, -8.36900902e+00, -5.47001743e+00, -3.15979719e+00,\n",
       "       -1.68819356e+00, -6.41003788e-01, -3.00304860e-01, -1.02301165e-01,\n",
       "       -3.27003896e-02, -8.69970955e-03, -1.04004163e-02,  0.00000000e+00,\n",
       "        0.00000000e+00,  0.00000000e+00,  0.00000000e+00,  0.00000000e+00,\n",
       "       -5.87020963e-02, -1.73902482e-01, -4.45799261e-01, -9.71390843e-01,\n",
       "       -2.17140889e+00, -3.07170200e+00, -4.48650455e+00, -6.37951469e+00,\n",
       "       -6.95392227e+00, -6.51337719e+00, -5.59755945e+00, -4.51309395e+00,\n",
       "       -3.88340092e+00, -3.15870762e+00, -1.89911675e+00, -1.26050174e+00,\n",
       "       -6.22292519e-01, -1.86200485e-01, -7.74031878e-02,  0.00000000e+00,\n",
       "        0.00000000e+00,  0.00000000e+00,  0.00000000e+00,  0.00000000e+00,\n",
       "        0.00000000e+00,  0.00000000e+00,  0.00000000e+00,  0.00000000e+00,\n",
       "        0.00000000e+00,  0.00000000e+00, -1.59002114e-02, -1.32401094e-01,\n",
       "       -1.50900662e-01, -1.61103129e-01, -1.88304693e-01, -3.53701144e-01,\n",
       "       -4.75202352e-01, -5.67001462e-01, -7.28404522e-01, -5.84188640e-01,\n",
       "       -6.06597006e-01, -4.54394847e-01, -3.15801233e-01, -1.85297742e-01,\n",
       "       -1.01298794e-01, -2.81002708e-02, -2.03995090e-02,  0.00000000e+00,\n",
       "        0.00000000e+00,  0.00000000e+00,  0.00000000e+00,  0.00000000e+00],\n",
       "      dtype=float32)"
      ]
     },
     "execution_count": 23,
     "metadata": {},
     "output_type": "execute_result"
    }
   ],
   "source": [
    "X[0]"
   ]
  },
  {
   "cell_type": "code",
   "execution_count": 73,
   "metadata": {},
   "outputs": [],
   "source": [
    "# матрица ковариации признаков\n",
    "cov = np.dot(X.T, X) / X.shape[0]"
   ]
  },
  {
   "cell_type": "code",
   "execution_count": 74,
   "metadata": {},
   "outputs": [],
   "source": [
    "U, S, _ = np.linalg.svd(cov)\n",
    "# U - собсвенные вектора матрицы ковариации\n",
    "# S - собственные значения"
   ]
  },
  {
   "cell_type": "markdown",
   "metadata": {},
   "source": [
    "## Собственные числа"
   ]
  },
  {
   "cell_type": "code",
   "execution_count": null,
   "metadata": {},
   "outputs": [],
   "source": [
    "# накопленная сумма собственных значений\n",
    "S_cumsum = np.cumsum(S) / np.sum(S)\n",
    "plt.plot(S_cumsum, 'o')"
   ]
  },
  {
   "cell_type": "code",
   "execution_count": null,
   "metadata": {},
   "outputs": [],
   "source": [
    "for i in range(5):\n",
    "    print('[%03d] %.3f' % (i, S_cumsum[i]))"
   ]
  },
  {
   "cell_type": "markdown",
   "metadata": {},
   "source": [
    "## Понижаем размерность"
   ]
  },
  {
   "cell_type": "code",
   "execution_count": null,
   "metadata": {},
   "outputs": [],
   "source": [
    "S_thr = 0.75  # задаем порог для накопленной суммы собственных значений\n",
    "\n",
    "# определяем необходимое число компонент для заданного порога\n",
    "n_comp = np.argmax(np.where(S_cumsum > S_thr, 1, 0))\n",
    "\n",
    "print('n_comp=%d S=%.3f' % (n_comp, S_cumsum[n_comp]))"
   ]
  },
  {
   "cell_type": "code",
   "execution_count": 87,
   "metadata": {},
   "outputs": [],
   "source": [
    "# получаем сжатое представление объектов\n",
    "Xrot_reduced = np.dot(X, U[:, :n_comp])"
   ]
  },
  {
   "cell_type": "markdown",
   "metadata": {},
   "source": [
    "## Восстанавливаем изображение после понижения размерности"
   ]
  },
  {
   "cell_type": "code",
   "execution_count": 89,
   "metadata": {},
   "outputs": [],
   "source": [
    "Xrot_restored = np.dot(Xrot_reduced, U[:,:n_comp].T)"
   ]
  },
  {
   "cell_type": "code",
   "execution_count": null,
   "metadata": {},
   "outputs": [],
   "source": [
    "from matplotlib import pyplot as plt\n",
    "fig = plt.figure(figsize=(20, 10))\n",
    "for i, img in enumerate(X[0:6], 1):\n",
    "    subplot = fig.add_subplot(1, 7, i)\n",
    "    img_ = img + X_mean\n",
    "    plt.title('%s' % y[i-1])\n",
    "    plt.imshow(img_.reshape((28,28)), cmap='gray');"
   ]
  },
  {
   "cell_type": "code",
   "execution_count": null,
   "metadata": {},
   "outputs": [],
   "source": [
    "from matplotlib import pyplot as plt\n",
    "fig = plt.figure(figsize=(20, 10))\n",
    "for i, img in enumerate(Xrot_restored[0:6], 1):\n",
    "    subplot = fig.add_subplot(1, 7, i)\n",
    "    img_ = img + X_mean\n",
    "    plt.title('%s' % y[i-1])\n",
    "    plt.imshow(img_.reshape((28,28)) + X_mean.reshape((28,28)), cmap='gray');"
   ]
  },
  {
   "cell_type": "markdown",
   "metadata": {},
   "source": [
    "## Визуализация собственных векторов"
   ]
  },
  {
   "cell_type": "code",
   "execution_count": null,
   "metadata": {},
   "outputs": [],
   "source": [
    "fig = plt.figure(figsize=(20, 10))\n",
    "for i, img in enumerate(U.T[:5, :], 1):\n",
    "    subplot = fig.add_subplot(1, 5, i)\n",
    "    plt.imshow(img.reshape((28,28)), cmap='gray');"
   ]
  }
 ],
 "metadata": {
  "kernelspec": {
   "display_name": "Python 3 (ipykernel)",
   "language": "python",
   "name": "python3"
  },
  "language_info": {
   "codemirror_mode": {
    "name": "ipython",
    "version": 3
   },
   "file_extension": ".py",
   "mimetype": "text/x-python",
   "name": "python",
   "nbconvert_exporter": "python",
   "pygments_lexer": "ipython3",
   "version": "3.9.7"
  }
 },
 "nbformat": 4,
 "nbformat_minor": 2
}
